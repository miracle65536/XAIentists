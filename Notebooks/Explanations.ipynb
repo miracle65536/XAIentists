{
 "cells": [
  {
   "cell_type": "code",
   "execution_count": null,
   "metadata": {},
   "outputs": [],
   "source": [
    "# Now lets download the trained model from the last notebook using joblib\n",
    "import joblib\n",
    "\n",
    "# Load the trained model from last notebook\n",
    "model = joblib.load('../Trained Models/xgboost_model.pkl')"
   ]
  },
  {
   "cell_type": "code",
   "execution_count": null,
   "metadata": {},
   "outputs": [],
   "source": [
    "import shap\n",
    "import lime\n",
    "import lime.lime_tabular\n",
    "import joblib\n",
    "import numpy as np\n",
    "import pandas as pd\n",
    "import xgboost\n",
    "from sklearn import datasets\n",
    "from sklearn.model_selection import train_test_split\n",
    "from sklearn.metrics import accuracy_score\n",
    "from sklearn.preprocessing import StandardScaler\n",
    "from sklearn.pipeline import make_pipeline\n",
    "from sklearn.ensemble import RandomForestClassifier\n",
    "from sklearn.model_selection import cross_val_score\n",
    "from sklearn.model_selection import GridSearchCV"
   ]
  },
  {
   "cell_type": "code",
   "execution_count": null,
   "metadata": {},
   "outputs": [],
   "source": [
    "#Just to check the python version and other libraries versions. Remove this cell if everything is working fine..\n",
    "\n",
    "import platform\n",
    "print(platform.architecture())\n",
    "\n",
    "import joblib\n",
    "print(joblib.__version__)\n",
    "\n",
    "import xgboost\n",
    "print(xgboost.__version__)\n",
    "\n",
    "import platform\n",
    "import struct\n",
    "print(\"Python Version:\", platform.python_version())\n",
    "print(\"Architecture:\", struct.calcsize(\"P\") * 8)\n",
    "\n",
    "import sys\n",
    "print(sys.executable)\n",
    "\n",
    "import struct\n",
    "print(struct.calcsize(\"P\") * 8)"
   ]
  },
  {
   "cell_type": "code",
   "execution_count": null,
   "metadata": {},
   "outputs": [],
   "source": [
    "data =pd.read_csv('../Data/Processed/compas-scores-two-years-processed.csv')\n",
    "\n",
    "# Drop the two target columns\n",
    "X = data.drop('two_year_recid', axis=1)\n",
    "y = data['two_year_recid']\n",
    "\n",
    "#model = joblib.load('../Trained Models/xgboost_model.pkl')\n",
    "\n",
    "model = joblib.load(\"../Trained Models/xgboost_model.pkl\", mmap_mode=\"r\")\n",
    "\n",
    "X_train, X_test, y_train, y_test = train_test_split(X, y, test_size=0.2, random_state=42)\n",
    "#rf_model = RandomForestClassifier(n_estimators=100, random_state=42)\n",
    "#rf_model.fit(X_train, y_train)\n",
    "\n",
    "feature_names = X_train.columns.tolist()"
   ]
  },
  {
   "cell_type": "code",
   "execution_count": null,
   "metadata": {},
   "outputs": [],
   "source": [
    "explainer = lime.lime_tabular.LimeTabularExplainer(\n",
    "    X_train.values,  # Training data\n",
    "    training_labels=y_train,  # Labels for training data\n",
    "    feature_names=feature_names,\n",
    "    class_names=[\"No Recidivism\", \"Recidivism\"],  # Adjust based on your target variable\n",
    "    mode=\"classification\"\n",
    ")\n",
    "\n",
    "# Select a sample instance from the test set\n",
    "i = 5  # Choose any index\n",
    "instance = X_test.iloc[i].values\n",
    "\n",
    "# Generate explanation\n",
    "exp = explainer.explain_instance(instance, model.predict_proba, num_features=10)\n",
    "\n",
    "# Visualize explanation\n",
    "exp.show_in_notebook()"
   ]
  },
  {
   "cell_type": "code",
   "execution_count": null,
   "metadata": {},
   "outputs": [],
   "source": [
    "# Create SHAP explainer\n",
    "explainer = shap.TreeExplainer(model)  # Random Forest is tree-based\n",
    "\n",
    "# Compute SHAP values\n",
    "shap_values = explainer.shap_values(X_test)\n",
    "\n",
    "# Summary plot (global feature importance)\n",
    "shap.summary_plot(shap_values[1], X_test, feature_names=feature_names)  # Class 1 (Recidivism)\n",
    "\n",
    "# Explanation for a single instance\n",
    "shap.force_plot(explainer.expected_value[1], shap_values[1][i], X_test.iloc[i], matplotlib=True)"
   ]
  },
  {
   "cell_type": "code",
   "execution_count": null,
   "metadata": {},
   "outputs": [],
   "source": [
    "# Initialize JavaScript visualization to understand how the model makes decisions (for each feature)\n",
    "shap.initjs()\n",
    "shap.force_plot(shap_values[1][0], X_test[0], feature_names=feature_names)"
   ]
  }
 ],
 "metadata": {
  "kernelspec": {
   "display_name": "Python 3",
   "language": "python",
   "name": "python3"
  },
  "language_info": {
   "codemirror_mode": {
    "name": "ipython",
    "version": 3
   },
   "file_extension": ".py",
   "mimetype": "text/x-python",
   "name": "python",
   "nbconvert_exporter": "python",
   "pygments_lexer": "ipython3",
   "version": "3.13.2"
  }
 },
 "nbformat": 4,
 "nbformat_minor": 2
}
