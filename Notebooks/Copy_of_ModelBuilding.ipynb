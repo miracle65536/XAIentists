{
  "cells": [
    {
      "cell_type": "markdown",
      "metadata": {
        "colab_type": "text",
        "id": "view-in-github"
      },
      "source": [
        "<a href=\"https://colab.research.google.com/github/miracle65536/XAIentists/blob/ModelBuildingPratibha/Copy_of_ModelBuilding.ipynb\" target=\"_parent\"><img src=\"https://colab.research.google.com/assets/colab-badge.svg\" alt=\"Open In Colab\"/></a>"
      ]
    },
    {
      "cell_type": "markdown",
      "metadata": {
        "id": "Wf5KrEb6vrkR"
      },
      "source": [
        "<div class=\"markdown-google-sans\">\n",
        "  <h1>Welcome to Colab!</h1>\n",
        "</div>\n",
        "\n",
        "<div class=\"markdown-google-sans\">\n",
        "  <h2>Explore the Gemini API</h2>\n",
        "  <p>The Gemini API gives you access to Gemini models created by Google DeepMind. Gemini models are built from the ground up to be multimodal, so you can reason seamlessly across text, images, code, and audio.\n",
        "  </p>\n",
        "  <strong>How to get started</strong>\n",
        "    <ol>\n",
        "      <li>Go to <a href=\"https://aistudio.google.com/\">Google AI Studio</a> and log in with your Google account.</li>\n",
        "      <li><a href=\"https://aistudio.google.com/app/apikey\">Create an API key</a>.</li>\n",
        "      <li>Use a quickstart for <a href=\"https://colab.research.google.com/github/google-gemini/cookbook/blob/main/quickstarts/Prompting.ipynb\">Python</a>, or call the REST API using <a href=\"https://colab.research.google.com/github/google-gemini/cookbook/blob/main/quickstarts/rest/Prompting_REST.ipynb\">curl</a>.</li>\n",
        "      </ol>\n",
        "  <strong>Explore use cases</strong>\n",
        "    <ul>\n",
        "      <li><a href=\"https://colab.research.google.com/github/google-gemini/cookbook/blob/main/examples/Market_a_Jet_Backpack.ipynb\">Create a marketing campaign</a></li>\n",
        "      <li><a href=\"https://colab.research.google.com/github/google-gemini/cookbook/blob/main/quickstarts/Audio.ipynb\">Analyze audio recordings</a></li>\n",
        "      <li><a href=\"https://colab.research.google.com/github/google-gemini/cookbook/blob/main/quickstarts/System_instructions.ipynb\">Use System instructions in chat</a></li>\n",
        "    </ul>\n",
        "  <p>To learn more, check out the <a href=\"https://github.com/google-gemini/cookbook\">Gemini cookbook</a> or visit the <a href=\"https://ai.google.dev/docs/\">Gemini API documentation</a>.\n",
        "  </p>\n",
        "</div>\n"
      ]
    },
    {
      "cell_type": "code",
      "execution_count": 2,
      "metadata": {
        "id": "vS-l6BG_1-S0"
      },
      "outputs": [],
      "source": [
        "import pandas as pd"
      ]
    },
    {
      "cell_type": "code",
      "execution_count": 3,
      "metadata": {
        "colab": {
          "base_uri": "https://localhost:8080/",
          "height": 296
        },
        "collapsed": true,
        "id": "09-fdUDx2D2P",
        "outputId": "051dc984-3aec-4114-cb7e-4a50b09e2152"
      },
      "outputs": [
        {
          "data": {
            "text/html": [
              "<div>\n",
              "<style scoped>\n",
              "    .dataframe tbody tr th:only-of-type {\n",
              "        vertical-align: middle;\n",
              "    }\n",
              "\n",
              "    .dataframe tbody tr th {\n",
              "        vertical-align: top;\n",
              "    }\n",
              "\n",
              "    .dataframe thead th {\n",
              "        text-align: right;\n",
              "    }\n",
              "</style>\n",
              "<table border=\"1\" class=\"dataframe\">\n",
              "  <thead>\n",
              "    <tr style=\"text-align: right;\">\n",
              "      <th></th>\n",
              "      <th>sex</th>\n",
              "      <th>age_cat</th>\n",
              "      <th>race</th>\n",
              "      <th>juv_fel_count</th>\n",
              "      <th>juv_misd_count</th>\n",
              "      <th>juv_other_count</th>\n",
              "      <th>priors_count</th>\n",
              "      <th>c_charge_degree</th>\n",
              "      <th>c_charge_desc</th>\n",
              "      <th>is_recid</th>\n",
              "      <th>r_charge_degree</th>\n",
              "      <th>r_days_from_arrest</th>\n",
              "      <th>r_charge_desc</th>\n",
              "      <th>is_violent_recid</th>\n",
              "      <th>vr_charge_degree</th>\n",
              "      <th>vr_charge_desc</th>\n",
              "      <th>c_length_of_stay</th>\n",
              "      <th>r_length_of_stay</th>\n",
              "      <th>custody_length_of_stay</th>\n",
              "      <th>two_year_recid</th>\n",
              "    </tr>\n",
              "  </thead>\n",
              "  <tbody>\n",
              "    <tr>\n",
              "      <th>0</th>\n",
              "      <td>Male</td>\n",
              "      <td>Greater than 45</td>\n",
              "      <td>Other</td>\n",
              "      <td>0</td>\n",
              "      <td>0</td>\n",
              "      <td>0</td>\n",
              "      <td>0</td>\n",
              "      <td>F</td>\n",
              "      <td>0.003327</td>\n",
              "      <td>0</td>\n",
              "      <td>NaN</td>\n",
              "      <td>NaN</td>\n",
              "      <td>NaN</td>\n",
              "      <td>0</td>\n",
              "      <td>NaN</td>\n",
              "      <td>NaN</td>\n",
              "      <td>0.98</td>\n",
              "      <td>NaN</td>\n",
              "      <td>7.0</td>\n",
              "      <td>0</td>\n",
              "    </tr>\n",
              "    <tr>\n",
              "      <th>1</th>\n",
              "      <td>Male</td>\n",
              "      <td>25 - 45</td>\n",
              "      <td>African-American</td>\n",
              "      <td>0</td>\n",
              "      <td>0</td>\n",
              "      <td>0</td>\n",
              "      <td>0</td>\n",
              "      <td>F</td>\n",
              "      <td>0.006376</td>\n",
              "      <td>1</td>\n",
              "      <td>(F3)</td>\n",
              "      <td>0.0</td>\n",
              "      <td>0.005186</td>\n",
              "      <td>1</td>\n",
              "      <td>(F3)</td>\n",
              "      <td>0.046398</td>\n",
              "      <td>10.08</td>\n",
              "      <td>8.0</td>\n",
              "      <td>10.0</td>\n",
              "      <td>1</td>\n",
              "    </tr>\n",
              "    <tr>\n",
              "      <th>2</th>\n",
              "      <td>Male</td>\n",
              "      <td>Less than 25</td>\n",
              "      <td>African-American</td>\n",
              "      <td>0</td>\n",
              "      <td>0</td>\n",
              "      <td>1</td>\n",
              "      <td>4</td>\n",
              "      <td>F</td>\n",
              "      <td>0.065706</td>\n",
              "      <td>1</td>\n",
              "      <td>(M1)</td>\n",
              "      <td>0.0</td>\n",
              "      <td>0.006626</td>\n",
              "      <td>0</td>\n",
              "      <td>NaN</td>\n",
              "      <td>NaN</td>\n",
              "      <td>1.09</td>\n",
              "      <td>0.0</td>\n",
              "      <td>0.0</td>\n",
              "      <td>1</td>\n",
              "    </tr>\n",
              "    <tr>\n",
              "      <th>3</th>\n",
              "      <td>Male</td>\n",
              "      <td>Less than 25</td>\n",
              "      <td>African-American</td>\n",
              "      <td>0</td>\n",
              "      <td>1</td>\n",
              "      <td>0</td>\n",
              "      <td>1</td>\n",
              "      <td>F</td>\n",
              "      <td>0.010535</td>\n",
              "      <td>0</td>\n",
              "      <td>NaN</td>\n",
              "      <td>NaN</td>\n",
              "      <td>NaN</td>\n",
              "      <td>0</td>\n",
              "      <td>NaN</td>\n",
              "      <td>NaN</td>\n",
              "      <td>1.28</td>\n",
              "      <td>NaN</td>\n",
              "      <td>2.0</td>\n",
              "      <td>0</td>\n",
              "    </tr>\n",
              "    <tr>\n",
              "      <th>4</th>\n",
              "      <td>Male</td>\n",
              "      <td>25 - 45</td>\n",
              "      <td>Other</td>\n",
              "      <td>0</td>\n",
              "      <td>0</td>\n",
              "      <td>0</td>\n",
              "      <td>2</td>\n",
              "      <td>F</td>\n",
              "      <td>0.158442</td>\n",
              "      <td>0</td>\n",
              "      <td>NaN</td>\n",
              "      <td>NaN</td>\n",
              "      <td>NaN</td>\n",
              "      <td>0</td>\n",
              "      <td>NaN</td>\n",
              "      <td>NaN</td>\n",
              "      <td>1.28</td>\n",
              "      <td>NaN</td>\n",
              "      <td>2.0</td>\n",
              "      <td>0</td>\n",
              "    </tr>\n",
              "  </tbody>\n",
              "</table>\n",
              "</div>"
            ],
            "text/plain": [
              "    sex          age_cat              race  juv_fel_count  juv_misd_count  \\\n",
              "0  Male  Greater than 45             Other              0               0   \n",
              "1  Male          25 - 45  African-American              0               0   \n",
              "2  Male     Less than 25  African-American              0               0   \n",
              "3  Male     Less than 25  African-American              0               1   \n",
              "4  Male          25 - 45             Other              0               0   \n",
              "\n",
              "   juv_other_count  priors_count c_charge_degree  c_charge_desc  is_recid  \\\n",
              "0                0             0               F       0.003327         0   \n",
              "1                0             0               F       0.006376         1   \n",
              "2                1             4               F       0.065706         1   \n",
              "3                0             1               F       0.010535         0   \n",
              "4                0             2               F       0.158442         0   \n",
              "\n",
              "  r_charge_degree  r_days_from_arrest  r_charge_desc  is_violent_recid  \\\n",
              "0             NaN                 NaN            NaN                 0   \n",
              "1            (F3)                 0.0       0.005186                 1   \n",
              "2            (M1)                 0.0       0.006626                 0   \n",
              "3             NaN                 NaN            NaN                 0   \n",
              "4             NaN                 NaN            NaN                 0   \n",
              "\n",
              "  vr_charge_degree  vr_charge_desc  c_length_of_stay  r_length_of_stay  \\\n",
              "0              NaN             NaN              0.98               NaN   \n",
              "1             (F3)        0.046398             10.08               8.0   \n",
              "2              NaN             NaN              1.09               0.0   \n",
              "3              NaN             NaN              1.28               NaN   \n",
              "4              NaN             NaN              1.28               NaN   \n",
              "\n",
              "   custody_length_of_stay  two_year_recid  \n",
              "0                     7.0               0  \n",
              "1                    10.0               1  \n",
              "2                     0.0               1  \n",
              "3                     2.0               0  \n",
              "4                     2.0               0  "
            ]
          },
          "execution_count": 3,
          "metadata": {},
          "output_type": "execute_result"
        }
      ],
      "source": [
        "df=pd.read_csv('../Data/Processed/compas-scores-two-years-processed.csv')\n",
        "df.head()"
      ]
    },
    {
      "cell_type": "code",
      "execution_count": 4,
      "metadata": {
        "colab": {
          "base_uri": "https://localhost:8080/"
        },
        "id": "2L_i7kTz72TG",
        "outputId": "5ce6513a-2a30-426d-ffde-c820f43abc59"
      },
      "outputs": [
        {
          "data": {
            "text/plain": [
              "(7214, 20)"
            ]
          },
          "execution_count": 4,
          "metadata": {},
          "output_type": "execute_result"
        }
      ],
      "source": [
        "df.shape"
      ]
    },
    {
      "cell_type": "markdown",
      "metadata": {
        "id": "XeuUBBr363sL"
      },
      "source": []
    },
    {
      "cell_type": "code",
      "execution_count": 9,
      "metadata": {
        "id": "v9S9qX-VFdl_"
      },
      "outputs": [],
      "source": [
        "from sklearn.model_selection import GridSearchCV, train_test_split\n",
        "from xgboost import XGBClassifier\n",
        "from xgboost import plot_importance\n",
        "from sklearn.metrics import accuracy_score, precision_score, recall_score, f1_score, confusion_matrix, ConfusionMatrixDisplay\n",
        "from sklearn.preprocessing import LabelEncoder\n",
        "import matplotlib.pyplot as plt\n",
        "import seaborn as sns\n",
        "import time"
      ]
    },
    {
      "cell_type": "code",
      "execution_count": 6,
      "metadata": {
        "colab": {
          "base_uri": "https://localhost:8080/",
          "height": 805
        },
        "collapsed": true,
        "id": "qRjNUI0OFkXF",
        "outputId": "fd4534aa-d291-4e6d-9013-1e6292902f79"
      },
      "outputs": [
        {
          "data": {
            "text/plain": [
              "sex                        object\n",
              "age_cat                    object\n",
              "race                       object\n",
              "juv_fel_count               int64\n",
              "juv_misd_count              int64\n",
              "juv_other_count             int64\n",
              "priors_count                int64\n",
              "c_charge_degree            object\n",
              "c_charge_desc             float64\n",
              "is_recid                    int64\n",
              "r_charge_degree            object\n",
              "r_days_from_arrest        float64\n",
              "r_charge_desc             float64\n",
              "is_violent_recid            int64\n",
              "vr_charge_degree           object\n",
              "vr_charge_desc            float64\n",
              "c_length_of_stay          float64\n",
              "r_length_of_stay          float64\n",
              "custody_length_of_stay    float64\n",
              "two_year_recid              int64\n",
              "dtype: object"
            ]
          },
          "execution_count": 6,
          "metadata": {},
          "output_type": "execute_result"
        }
      ],
      "source": [
        "df.dtypes"
      ]
    },
    {
      "cell_type": "code",
      "execution_count": null,
      "metadata": {
        "id": "BqLFNfAPgRxB"
      },
      "outputs": [],
      "source": [
        "# Apply one-hot encoding to categorical columns, excluding columns with embeddings\n",
        "categorical_cols = ['sex', 'race', 'age_cat', 'c_charge_degree', 'r_charge_degree', 'vr_charge_degree']\n",
        "df_encoded = pd.get_dummies(df, columns=categorical_cols)\n",
        "\n",
        "# Drop columns with object dtype that are causing issues\n",
        "object_cols = df_encoded.select_dtypes(include=['object']).columns\n",
        "df_encoded = df_encoded.drop(columns=object_cols)"
      ]
    },
    {
      "cell_type": "code",
      "execution_count": 12,
      "metadata": {},
      "outputs": [],
      "source": [
        "# List of categorical features to label encode\n",
        "# Include c_charge_desc, r_charge_desc, vr_charge_desc since they are categorical\n",
        "label_features = [\n",
        "    'sex', 'age_cat', 'race', 'c_charge_degree', 'r_charge_degree', \n",
        "    'vr_charge_degree', 'c_charge_desc', 'r_charge_desc', 'vr_charge_desc'\n",
        "]\n",
        "\n",
        "# Dictionary to store the LabelEncoders for each feature\n",
        "label_encoders = {col: LabelEncoder() for col in label_features}\n",
        "\n",
        "# Apply Label Encoding to all categorical features\n",
        "for col in label_features:\n",
        "    df[col] = label_encoders[col].fit_transform(df[col])"
      ]
    },
    {
      "cell_type": "code",
      "execution_count": 13,
      "metadata": {},
      "outputs": [],
      "source": [
        "y = df['two_year_recid']\n",
        "X = df.drop(columns='two_year_recid')\n",
        "\n",
        "# Split the data into training and testing sets\n",
        "X_train, X_test, y_train, y_test = train_test_split(\n",
        "    X, y, test_size=0.3, stratify=y, random_state=42\n",
        ")\n"
      ]
    },
    {
      "cell_type": "code",
      "execution_count": null,
      "metadata": {
        "colab": {
          "base_uri": "https://localhost:8080/",
          "height": 256
        },
        "collapsed": true,
        "id": "vdbgaSF2FkSE",
        "outputId": "859c23d7-2217-4d92-a1f6-2214e3b69387"
      },
      "outputs": [
        {
          "ename": "NameError",
          "evalue": "name 'df_encoded' is not defined",
          "output_type": "error",
          "traceback": [
            "\u001b[0;31m---------------------------------------------------------------------------\u001b[0m",
            "\u001b[0;31mNameError\u001b[0m                                 Traceback (most recent call last)",
            "Cell \u001b[0;32mIn[11], line 1\u001b[0m\n\u001b[0;32m----> 1\u001b[0m \u001b[38;5;28mprint\u001b[39m(\u001b[43mdf_encoded\u001b[49m\u001b[38;5;241m.\u001b[39mshape)\n\u001b[1;32m      2\u001b[0m df_encoded\u001b[38;5;241m.\u001b[39mhead()\n",
            "\u001b[0;31mNameError\u001b[0m: name 'df_encoded' is not defined"
          ]
        }
      ],
      "source": [
        "#print(df_encoded.shape)\n",
        "#df_encoded.head()"
      ]
    },
    {
      "cell_type": "code",
      "execution_count": null,
      "metadata": {
        "id": "hY3qBBzvFkPS"
      },
      "outputs": [],
      "source": [
        "#y = df_encoded['two_year_recid']         # target variable\n",
        "#X = df_encoded.drop(columns='two_year_recid')    # features"
      ]
    },
    {
      "cell_type": "code",
      "execution_count": 14,
      "metadata": {
        "id": "BcaNMsFpFkMZ"
      },
      "outputs": [],
      "source": [
        "# Split into training and testing data\n",
        "X_train, X_test, y_train, y_test = train_test_split(X, y, test_size=0.3, stratify=y, random_state=42)"
      ]
    },
    {
      "cell_type": "code",
      "execution_count": 15,
      "metadata": {
        "colab": {
          "base_uri": "https://localhost:8080/"
        },
        "id": "trynmLHkFkHP",
        "outputId": "13da819f-e307-496f-8ad1-8feda00d8928"
      },
      "outputs": [
        {
          "name": "stdout",
          "output_type": "stream",
          "text": [
            "Training time: 23.13 seconds\n"
          ]
        }
      ],
      "source": [
        "# Initialize XGBClassifier\n",
        "xgb = XGBClassifier(objective= 'binary:logistic', random_state = 0)\n",
        "\n",
        "# Defining classifier parameters\n",
        "cv_params = {'max_depth': [4,5,6],\n",
        "              'min_child_weight' : [2,3,4],\n",
        "              'learning_rate' : [0.1,0.2, 0.3],\n",
        "              'n_estimators' : [50, 100]\n",
        "            }\n",
        "\n",
        "scoring =  {'accuracy': 'accuracy',\n",
        "            'precision': 'precision',\n",
        "            'recall': 'recall',\n",
        "            'f1': 'f1'}\n",
        "\n",
        "# Performing GridSearch\n",
        "xgb_cv = GridSearchCV (xgb, cv_params, scoring = scoring, cv = 5, refit = 'f1')\n",
        "\n",
        "# Record start time\n",
        "start_time = time.time()\n",
        "\n",
        "#Train the model\n",
        "xgb_cv.fit(X_train, y_train)\n",
        "\n",
        "# Record end time\n",
        "end_time = time.time()\n",
        "\n",
        "# Calculate and print the elapsed time\n",
        "elapsed_time = end_time - start_time\n",
        "print(f\"Training time: {elapsed_time:.2f} seconds\")"
      ]
    },
    {
      "cell_type": "code",
      "execution_count": 16,
      "metadata": {
        "colab": {
          "base_uri": "https://localhost:8080/"
        },
        "id": "oHUqMU1UFj7W",
        "outputId": "04a95e47-a9fe-48af-ce74-cc02eb87de6d"
      },
      "outputs": [
        {
          "name": "stdout",
          "output_type": "stream",
          "text": [
            "Best parameters: {'learning_rate': 0.1, 'max_depth': 4, 'min_child_weight': 2, 'n_estimators': 50}\n",
            "Best F1 score: 0.9654730404780782\n"
          ]
        }
      ],
      "source": [
        "print(\"Best parameters:\", xgb_cv.best_params_)\n",
        "print(\"Best F1 score:\", xgb_cv.best_score_)"
      ]
    },
    {
      "cell_type": "code",
      "execution_count": 17,
      "metadata": {
        "id": "kev6eqjNm0Hk"
      },
      "outputs": [],
      "source": [
        "# Make predictions on the test set\n",
        "y_pred = xgb_cv.best_estimator_.predict(X_test)"
      ]
    },
    {
      "cell_type": "code",
      "execution_count": 18,
      "metadata": {},
      "outputs": [
        {
          "name": "stdout",
          "output_type": "stream",
          "text": [
            "Accuracy: 0.97\n"
          ]
        }
      ],
      "source": [
        "# get the accuracy of the trained classifier on the test set\n",
        "accuracy = accuracy_score(y_test, y_pred)\n",
        "print(f\"Accuracy: {accuracy:.2f}\")\n"
      ]
    },
    {
      "cell_type": "code",
      "execution_count": 19,
      "metadata": {
        "colab": {
          "base_uri": "https://localhost:8080/"
        },
        "id": "BzHrv7KNmPpA",
        "outputId": "013c3da5-5ff2-42da-afea-90ebb1cf1705"
      },
      "outputs": [
        {
          "name": "stdout",
          "output_type": "stream",
          "text": [
            "Confusion Matrix:\n",
            " [[1132   57]\n",
            " [   0  976]]\n"
          ]
        }
      ],
      "source": [
        "# Compute confusion matrix\n",
        "cm = confusion_matrix(y_test, y_pred)\n",
        "\n",
        "# Print confusion matrix\n",
        "print(\"Confusion Matrix:\\n\", cm)"
      ]
    },
    {
      "cell_type": "code",
      "execution_count": 20,
      "metadata": {
        "colab": {
          "base_uri": "https://localhost:8080/",
          "height": 410
        },
        "id": "a55Xb5ueoLsf",
        "outputId": "0cd36b8d-668a-4a33-df2f-5d3cbcf0dbeb"
      },
      "outputs": [
        {
          "data": {
            "image/png": "[encoded data removed]",
            "text/plain": [
              "<Figure size 500x400 with 2 Axes>"
            ]
          },
          "metadata": {},
          "output_type": "display_data"
        }
      ],
      "source": [
        "# Plot the confusion matrix\n",
        "plt.figure(figsize=(5,4))\n",
        "sns.heatmap(cm, annot=True, fmt=\"d\", cmap=\"Blues\", xticklabels=[\"Negative\", \"Positive\"], yticklabels=[\"Negative\", \"Positive\"])\n",
        "plt.xlabel(\"Predicted Label\")\n",
        "plt.ylabel(\"True Label\")\n",
        "plt.title(\"Confusion Matrix - XGBoost Model\")\n",
        "plt.show()"
      ]
    },
    {
      "cell_type": "code",
      "execution_count": 21,
      "metadata": {},
      "outputs": [
        {
          "data": {
            "text/plain": [
              "['../Trained Models/xgboost_model.pkl']"
            ]
          },
          "execution_count": 21,
          "metadata": {},
          "output_type": "execute_result"
        }
      ],
      "source": [
        "# Now that we finished training the model, let's save the trained model to a file so that we can use it in the explanation notebook; this will keep things modular and organized.\n",
        "import joblib\n",
        "\n",
        "# Save the model to a file\n",
        "joblib.dump(xgb_cv.best_estimator_, '../Trained Models/xgboost_model.pkl')\n",
        "\n"
      ]
    }
  ],
  "metadata": {
    "colab": {
      "include_colab_link": true,
      "provenance": []
    },
    "kernelspec": {
      "display_name": "Python 3",
      "language": "python",
      "name": "python3"
    },
    "language_info": {
      "codemirror_mode": {
        "name": "ipython",
        "version": 3
      },
      "file_extension": ".py",
      "mimetype": "text/x-python",
      "name": "python",
      "nbconvert_exporter": "python",
      "pygments_lexer": "ipython3",
      "version": "3.12.1"
    }
  },
  "nbformat": 4,
  "nbformat_minor": 0
}
